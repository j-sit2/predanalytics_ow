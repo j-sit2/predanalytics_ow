{
 "cells": [
  {
   "cell_type": "markdown",
   "metadata": {},
   "source": [
    "<center> <h1> <b><span style=\"color:red\"> \n",
    "BDM500 Project Source Code <br><br>\n",
    "Jeff Sit<br><br>\n",
    "<center> 12/7/2022</span></b></h1>"
   ]
  },
  {
   "cell_type": "code",
   "execution_count": 1,
   "metadata": {},
   "outputs": [
    {
     "data": {
      "text/html": [
       "<div>\n",
       "<style scoped>\n",
       "    .dataframe tbody tr th:only-of-type {\n",
       "        vertical-align: middle;\n",
       "    }\n",
       "\n",
       "    .dataframe tbody tr th {\n",
       "        vertical-align: top;\n",
       "    }\n",
       "\n",
       "    .dataframe thead th {\n",
       "        text-align: right;\n",
       "    }\n",
       "</style>\n",
       "<table border=\"1\" class=\"dataframe\">\n",
       "  <thead>\n",
       "    <tr style=\"text-align: right;\">\n",
       "      <th></th>\n",
       "      <th>Player</th>\n",
       "      <th>Role</th>\n",
       "      <th>Hero</th>\n",
       "      <th>MouseModel</th>\n",
       "      <th>MouseWeight</th>\n",
       "      <th>MouseWeightToSizeRatio</th>\n",
       "      <th>DPI</th>\n",
       "      <th>Sensitivity</th>\n",
       "      <th>eDPI</th>\n",
       "      <th>cmPer360</th>\n",
       "    </tr>\n",
       "  </thead>\n",
       "  <tbody>\n",
       "    <tr>\n",
       "      <th>0</th>\n",
       "      <td>ameng</td>\n",
       "      <td>Tank</td>\n",
       "      <td>Orisa</td>\n",
       "      <td>Logitech G Pro Wireless</td>\n",
       "      <td>80</td>\n",
       "      <td>1.08</td>\n",
       "      <td>800</td>\n",
       "      <td>6.00</td>\n",
       "      <td>4800</td>\n",
       "      <td>28.88</td>\n",
       "    </tr>\n",
       "    <tr>\n",
       "      <th>1</th>\n",
       "      <td>Guxue</td>\n",
       "      <td>Tank</td>\n",
       "      <td>Winston</td>\n",
       "      <td>Logitech G903</td>\n",
       "      <td>111</td>\n",
       "      <td>1.26</td>\n",
       "      <td>1600</td>\n",
       "      <td>9.99</td>\n",
       "      <td>15984</td>\n",
       "      <td>8.67</td>\n",
       "    </tr>\n",
       "    <tr>\n",
       "      <th>2</th>\n",
       "      <td>Poko</td>\n",
       "      <td>Tank</td>\n",
       "      <td>D.Va</td>\n",
       "      <td>Logitech G703</td>\n",
       "      <td>95</td>\n",
       "      <td>1.28</td>\n",
       "      <td>800</td>\n",
       "      <td>12.50</td>\n",
       "      <td>10000</td>\n",
       "      <td>13.86</td>\n",
       "    </tr>\n",
       "    <tr>\n",
       "      <th>3</th>\n",
       "      <td>HOTBA</td>\n",
       "      <td>Tank</td>\n",
       "      <td>D.Va</td>\n",
       "      <td>Logitech G900</td>\n",
       "      <td>107</td>\n",
       "      <td>1.50</td>\n",
       "      <td>800</td>\n",
       "      <td>12.01</td>\n",
       "      <td>9608</td>\n",
       "      <td>14.43</td>\n",
       "    </tr>\n",
       "    <tr>\n",
       "      <th>4</th>\n",
       "      <td>Smurf</td>\n",
       "      <td>Tank</td>\n",
       "      <td>Winston</td>\n",
       "      <td>Logitech G Pro X Superlight</td>\n",
       "      <td>60</td>\n",
       "      <td>0.81</td>\n",
       "      <td>800</td>\n",
       "      <td>6.00</td>\n",
       "      <td>4800</td>\n",
       "      <td>28.88</td>\n",
       "    </tr>\n",
       "    <tr>\n",
       "      <th>5</th>\n",
       "      <td>Pine</td>\n",
       "      <td>Damage</td>\n",
       "      <td>McCree</td>\n",
       "      <td>SteelSeries Rival 100</td>\n",
       "      <td>120</td>\n",
       "      <td>1.48</td>\n",
       "      <td>500</td>\n",
       "      <td>15.00</td>\n",
       "      <td>7500</td>\n",
       "      <td>18.48</td>\n",
       "    </tr>\n",
       "    <tr>\n",
       "      <th>6</th>\n",
       "      <td>SLIME</td>\n",
       "      <td>Support</td>\n",
       "      <td>Lucio</td>\n",
       "      <td>Logitech G903</td>\n",
       "      <td>111</td>\n",
       "      <td>1.26</td>\n",
       "      <td>1000</td>\n",
       "      <td>7.20</td>\n",
       "      <td>7200</td>\n",
       "      <td>19.25</td>\n",
       "    </tr>\n",
       "    <tr>\n",
       "      <th>7</th>\n",
       "      <td>tobi</td>\n",
       "      <td>Support</td>\n",
       "      <td>Lucio</td>\n",
       "      <td>Logitech G Pro Wireless</td>\n",
       "      <td>80</td>\n",
       "      <td>1.08</td>\n",
       "      <td>800</td>\n",
       "      <td>8.50</td>\n",
       "      <td>6800</td>\n",
       "      <td>20.38</td>\n",
       "    </tr>\n",
       "    <tr>\n",
       "      <th>8</th>\n",
       "      <td>Profit</td>\n",
       "      <td>Damage</td>\n",
       "      <td>Tracer</td>\n",
       "      <td>Logitech G Pro Wireless</td>\n",
       "      <td>80</td>\n",
       "      <td>1.08</td>\n",
       "      <td>800</td>\n",
       "      <td>8.25</td>\n",
       "      <td>6600</td>\n",
       "      <td>21.00</td>\n",
       "    </tr>\n",
       "    <tr>\n",
       "      <th>9</th>\n",
       "      <td>Closer</td>\n",
       "      <td>Support</td>\n",
       "      <td>Mercy</td>\n",
       "      <td>Logitech G903</td>\n",
       "      <td>111</td>\n",
       "      <td>1.26</td>\n",
       "      <td>800</td>\n",
       "      <td>8.00</td>\n",
       "      <td>6400</td>\n",
       "      <td>21.66</td>\n",
       "    </tr>\n",
       "  </tbody>\n",
       "</table>\n",
       "</div>"
      ],
      "text/plain": [
       "   Player     Role     Hero                   MouseModel  MouseWeight  \\\n",
       "0   ameng     Tank    Orisa      Logitech G Pro Wireless           80   \n",
       "1   Guxue     Tank  Winston                Logitech G903          111   \n",
       "2    Poko     Tank     D.Va                Logitech G703           95   \n",
       "3   HOTBA     Tank     D.Va                Logitech G900          107   \n",
       "4   Smurf     Tank  Winston  Logitech G Pro X Superlight           60   \n",
       "5    Pine   Damage   McCree        SteelSeries Rival 100          120   \n",
       "6   SLIME  Support    Lucio                Logitech G903          111   \n",
       "7    tobi  Support    Lucio      Logitech G Pro Wireless           80   \n",
       "8  Profit   Damage   Tracer      Logitech G Pro Wireless           80   \n",
       "9  Closer  Support    Mercy                Logitech G903          111   \n",
       "\n",
       "   MouseWeightToSizeRatio   DPI  Sensitivity   eDPI  cmPer360  \n",
       "0                    1.08   800         6.00   4800     28.88  \n",
       "1                    1.26  1600         9.99  15984      8.67  \n",
       "2                    1.28   800        12.50  10000     13.86  \n",
       "3                    1.50   800        12.01   9608     14.43  \n",
       "4                    0.81   800         6.00   4800     28.88  \n",
       "5                    1.48   500        15.00   7500     18.48  \n",
       "6                    1.26  1000         7.20   7200     19.25  \n",
       "7                    1.08   800         8.50   6800     20.38  \n",
       "8                    1.08   800         8.25   6600     21.00  \n",
       "9                    1.26   800         8.00   6400     21.66  "
      ]
     },
     "execution_count": 1,
     "metadata": {},
     "output_type": "execute_result"
    }
   ],
   "source": [
    "#1.  Problem: need to predict a pro Overwatch player's Role based on other attributes\n",
    "#2a. Examine data: Use pandas + read.csv to load data and create dataframe\n",
    "import pandas as pd\n",
    "import numpy as np\n",
    "import matplotlib.pyplot as plt\n",
    "import seaborn as sns\n",
    "\n",
    "path = 'data/cleaned_ow_dataset.csv'\n",
    "df = pd.read_csv(path)\n",
    "df.drop(df.columns[10:16], axis=1, inplace=True)\n",
    "df.head(10)"
   ]
  },
  {
   "cell_type": "code",
   "execution_count": 2,
   "metadata": {},
   "outputs": [
    {
     "data": {
      "text/plain": [
       "(148, 10)"
      ]
     },
     "execution_count": 2,
     "metadata": {},
     "output_type": "execute_result"
    }
   ],
   "source": [
    "#2b. Check data: Clean, filter, and edit data where necessary\n",
    "# Use .shape, .info(), and .describe() to extract as much information\n",
    "# about the dataframe columns\n",
    "df.shape"
   ]
  },
  {
   "cell_type": "code",
   "execution_count": 3,
   "metadata": {},
   "outputs": [
    {
     "name": "stdout",
     "output_type": "stream",
     "text": [
      "<class 'pandas.core.frame.DataFrame'>\n",
      "RangeIndex: 148 entries, 0 to 147\n",
      "Data columns (total 10 columns):\n",
      " #   Column                  Non-Null Count  Dtype  \n",
      "---  ------                  --------------  -----  \n",
      " 0   Player                  148 non-null    object \n",
      " 1   Role                    148 non-null    object \n",
      " 2   Hero                    148 non-null    object \n",
      " 3   MouseModel              148 non-null    object \n",
      " 4   MouseWeight             148 non-null    int64  \n",
      " 5   MouseWeightToSizeRatio  148 non-null    float64\n",
      " 6   DPI                     148 non-null    int64  \n",
      " 7   Sensitivity             148 non-null    float64\n",
      " 8   eDPI                    148 non-null    int64  \n",
      " 9   cmPer360                148 non-null    float64\n",
      "dtypes: float64(3), int64(3), object(4)\n",
      "memory usage: 11.7+ KB\n"
     ]
    }
   ],
   "source": [
    "df.info()"
   ]
  },
  {
   "cell_type": "code",
   "execution_count": 4,
   "metadata": {},
   "outputs": [
    {
     "data": {
      "text/html": [
       "<div>\n",
       "<style scoped>\n",
       "    .dataframe tbody tr th:only-of-type {\n",
       "        vertical-align: middle;\n",
       "    }\n",
       "\n",
       "    .dataframe tbody tr th {\n",
       "        vertical-align: top;\n",
       "    }\n",
       "\n",
       "    .dataframe thead th {\n",
       "        text-align: right;\n",
       "    }\n",
       "</style>\n",
       "<table border=\"1\" class=\"dataframe\">\n",
       "  <thead>\n",
       "    <tr style=\"text-align: right;\">\n",
       "      <th></th>\n",
       "      <th>MouseWeight</th>\n",
       "      <th>MouseWeightToSizeRatio</th>\n",
       "      <th>DPI</th>\n",
       "      <th>Sensitivity</th>\n",
       "      <th>eDPI</th>\n",
       "      <th>cmPer360</th>\n",
       "    </tr>\n",
       "  </thead>\n",
       "  <tbody>\n",
       "    <tr>\n",
       "      <th>count</th>\n",
       "      <td>148.000000</td>\n",
       "      <td>148.000000</td>\n",
       "      <td>148.000000</td>\n",
       "      <td>148.00000</td>\n",
       "      <td>148.000000</td>\n",
       "      <td>148.000000</td>\n",
       "    </tr>\n",
       "    <tr>\n",
       "      <th>mean</th>\n",
       "      <td>83.655405</td>\n",
       "      <td>1.136486</td>\n",
       "      <td>950.337838</td>\n",
       "      <td>5.47473</td>\n",
       "      <td>4856.317568</td>\n",
       "      <td>32.746419</td>\n",
       "    </tr>\n",
       "    <tr>\n",
       "      <th>std</th>\n",
       "      <td>14.815745</td>\n",
       "      <td>0.177484</td>\n",
       "      <td>301.046735</td>\n",
       "      <td>2.47606</td>\n",
       "      <td>2043.246796</td>\n",
       "      <td>11.968048</td>\n",
       "    </tr>\n",
       "    <tr>\n",
       "      <th>min</th>\n",
       "      <td>50.000000</td>\n",
       "      <td>0.810000</td>\n",
       "      <td>400.000000</td>\n",
       "      <td>1.50000</td>\n",
       "      <td>1776.000000</td>\n",
       "      <td>8.670000</td>\n",
       "    </tr>\n",
       "    <tr>\n",
       "      <th>25%</th>\n",
       "      <td>80.000000</td>\n",
       "      <td>1.080000</td>\n",
       "      <td>800.000000</td>\n",
       "      <td>3.96000</td>\n",
       "      <td>3520.000000</td>\n",
       "      <td>24.750000</td>\n",
       "    </tr>\n",
       "    <tr>\n",
       "      <th>50%</th>\n",
       "      <td>80.000000</td>\n",
       "      <td>1.080000</td>\n",
       "      <td>800.000000</td>\n",
       "      <td>5.00000</td>\n",
       "      <td>4400.000000</td>\n",
       "      <td>31.500000</td>\n",
       "    </tr>\n",
       "    <tr>\n",
       "      <th>75%</th>\n",
       "      <td>89.250000</td>\n",
       "      <td>1.265000</td>\n",
       "      <td>1000.000000</td>\n",
       "      <td>6.50000</td>\n",
       "      <td>5600.000000</td>\n",
       "      <td>39.380000</td>\n",
       "    </tr>\n",
       "    <tr>\n",
       "      <th>max</th>\n",
       "      <td>120.000000</td>\n",
       "      <td>1.500000</td>\n",
       "      <td>1650.000000</td>\n",
       "      <td>15.00000</td>\n",
       "      <td>15984.000000</td>\n",
       "      <td>78.040000</td>\n",
       "    </tr>\n",
       "  </tbody>\n",
       "</table>\n",
       "</div>"
      ],
      "text/plain": [
       "       MouseWeight  MouseWeightToSizeRatio          DPI  Sensitivity  \\\n",
       "count   148.000000              148.000000   148.000000    148.00000   \n",
       "mean     83.655405                1.136486   950.337838      5.47473   \n",
       "std      14.815745                0.177484   301.046735      2.47606   \n",
       "min      50.000000                0.810000   400.000000      1.50000   \n",
       "25%      80.000000                1.080000   800.000000      3.96000   \n",
       "50%      80.000000                1.080000   800.000000      5.00000   \n",
       "75%      89.250000                1.265000  1000.000000      6.50000   \n",
       "max     120.000000                1.500000  1650.000000     15.00000   \n",
       "\n",
       "               eDPI    cmPer360  \n",
       "count    148.000000  148.000000  \n",
       "mean    4856.317568   32.746419  \n",
       "std     2043.246796   11.968048  \n",
       "min     1776.000000    8.670000  \n",
       "25%     3520.000000   24.750000  \n",
       "50%     4400.000000   31.500000  \n",
       "75%     5600.000000   39.380000  \n",
       "max    15984.000000   78.040000  "
      ]
     },
     "execution_count": 4,
     "metadata": {},
     "output_type": "execute_result"
    }
   ],
   "source": [
    "df.describe()"
   ]
  },
  {
   "cell_type": "code",
   "execution_count": 5,
   "metadata": {},
   "outputs": [
    {
     "data": {
      "text/plain": [
       "Damage     64\n",
       "Tank       42\n",
       "Support    42\n",
       "Name: Role, dtype: int64"
      ]
     },
     "execution_count": 5,
     "metadata": {},
     "output_type": "execute_result"
    }
   ],
   "source": [
    "# Use .value_counts() to get the number of rows per role\n",
    "df['Role'].value_counts()"
   ]
  },
  {
   "cell_type": "code",
   "execution_count": 6,
   "metadata": {},
   "outputs": [
    {
     "data": {
      "text/plain": [
       "Logitech G Pro Wireless          45\n",
       "Logitech G Pro X Superlight      17\n",
       "Logitech G Pro                   17\n",
       "Logitech G903                    15\n",
       "Logitech G403                     7\n",
       "Logitech G703                     6\n",
       "Zowie EC2-B                       5\n",
       "Logitech G305                     3\n",
       "Logitech G304                     3\n",
       "Razer Viper Ultimate              3\n",
       "Logitech G900                     2\n",
       "FinalMouse Ultralight 2           2\n",
       "Glorious Model O                  2\n",
       "Logitech G502                     2\n",
       "Zowie EC1-B                       2\n",
       "SteelSeries Rival 100             1\n",
       "SteelSeries Kinzu V3              1\n",
       "Finalmouse Ultralight Phantom     1\n",
       "Logitech G102                     1\n",
       "Zowie EC2-A                       1\n",
       "Roccat Kone Pure                  1\n",
       "Logitech G303                     1\n",
       "Glorious Model D                  1\n",
       "Razer Deathadder Elite            1\n",
       "VAXEE OUTSET AX                   1\n",
       "Logitech G403 Wireless            1\n",
       "Finalmouse Scream One             1\n",
       "Razer Orochi V2                   1\n",
       "FinalMouse Ultralight Pro         1\n",
       "Finalmouse Ultralight 2           1\n",
       "SteelSeries Sensei Ten            1\n",
       "Logitech G203                     1\n",
       "Name: MouseModel, dtype: int64"
      ]
     },
     "execution_count": 6,
     "metadata": {},
     "output_type": "execute_result"
    }
   ],
   "source": [
    "# Checking and correcting the names in the MouseModel categorical variable\n",
    "# Finalmouse has 2 spellings, where the lowercase m is correct\n",
    "# Due to this issue, they are being counted separately\n",
    "df['MouseModel'].value_counts()"
   ]
  },
  {
   "cell_type": "code",
   "execution_count": 7,
   "metadata": {},
   "outputs": [
    {
     "data": {
      "text/html": [
       "<div>\n",
       "<style scoped>\n",
       "    .dataframe tbody tr th:only-of-type {\n",
       "        vertical-align: middle;\n",
       "    }\n",
       "\n",
       "    .dataframe tbody tr th {\n",
       "        vertical-align: top;\n",
       "    }\n",
       "\n",
       "    .dataframe thead th {\n",
       "        text-align: right;\n",
       "    }\n",
       "</style>\n",
       "<table border=\"1\" class=\"dataframe\">\n",
       "  <thead>\n",
       "    <tr style=\"text-align: right;\">\n",
       "      <th></th>\n",
       "      <th>Player</th>\n",
       "      <th>Role</th>\n",
       "      <th>Hero</th>\n",
       "      <th>MouseModel</th>\n",
       "      <th>MouseWeight</th>\n",
       "      <th>MouseWeightToSizeRatio</th>\n",
       "      <th>DPI</th>\n",
       "      <th>Sensitivity</th>\n",
       "      <th>eDPI</th>\n",
       "      <th>cmPer360</th>\n",
       "    </tr>\n",
       "  </thead>\n",
       "  <tbody>\n",
       "    <tr>\n",
       "      <th>44</th>\n",
       "      <td>birdring</td>\n",
       "      <td>Damage</td>\n",
       "      <td>Widowmaker</td>\n",
       "      <td>FinalMouse Ultralight 2</td>\n",
       "      <td>50</td>\n",
       "      <td>0.81</td>\n",
       "      <td>1600</td>\n",
       "      <td>2.35</td>\n",
       "      <td>3760</td>\n",
       "      <td>36.86</td>\n",
       "    </tr>\n",
       "    <tr>\n",
       "      <th>59</th>\n",
       "      <td>Moth</td>\n",
       "      <td>Support</td>\n",
       "      <td>Lucio</td>\n",
       "      <td>FinalMouse Ultralight 2</td>\n",
       "      <td>50</td>\n",
       "      <td>0.81</td>\n",
       "      <td>1600</td>\n",
       "      <td>1.87</td>\n",
       "      <td>2992</td>\n",
       "      <td>46.32</td>\n",
       "    </tr>\n",
       "  </tbody>\n",
       "</table>\n",
       "</div>"
      ],
      "text/plain": [
       "      Player     Role        Hero               MouseModel  MouseWeight  \\\n",
       "44  birdring   Damage  Widowmaker  FinalMouse Ultralight 2           50   \n",
       "59      Moth  Support       Lucio  FinalMouse Ultralight 2           50   \n",
       "\n",
       "    MouseWeightToSizeRatio   DPI  Sensitivity  eDPI  cmPer360  \n",
       "44                    0.81  1600         2.35  3760     36.86  \n",
       "59                    0.81  1600         1.87  2992     46.32  "
      ]
     },
     "execution_count": 7,
     "metadata": {},
     "output_type": "execute_result"
    }
   ],
   "source": [
    "# Use .loc to locate Ultralight 2 for this example\n",
    "df.loc[df['MouseModel'] == \"FinalMouse Ultralight 2\"]"
   ]
  },
  {
   "cell_type": "code",
   "execution_count": 8,
   "metadata": {},
   "outputs": [
    {
     "data": {
      "text/html": [
       "<div>\n",
       "<style scoped>\n",
       "    .dataframe tbody tr th:only-of-type {\n",
       "        vertical-align: middle;\n",
       "    }\n",
       "\n",
       "    .dataframe tbody tr th {\n",
       "        vertical-align: top;\n",
       "    }\n",
       "\n",
       "    .dataframe thead th {\n",
       "        text-align: right;\n",
       "    }\n",
       "</style>\n",
       "<table border=\"1\" class=\"dataframe\">\n",
       "  <thead>\n",
       "    <tr style=\"text-align: right;\">\n",
       "      <th></th>\n",
       "      <th>Player</th>\n",
       "      <th>Role</th>\n",
       "      <th>Hero</th>\n",
       "      <th>MouseModel</th>\n",
       "      <th>MouseWeight</th>\n",
       "      <th>MouseWeightToSizeRatio</th>\n",
       "      <th>DPI</th>\n",
       "      <th>Sensitivity</th>\n",
       "      <th>eDPI</th>\n",
       "      <th>cmPer360</th>\n",
       "    </tr>\n",
       "  </thead>\n",
       "  <tbody>\n",
       "    <tr>\n",
       "      <th>75</th>\n",
       "      <td>Jecse</td>\n",
       "      <td>Support</td>\n",
       "      <td>Lucio</td>\n",
       "      <td>Finalmouse Ultralight 2</td>\n",
       "      <td>50</td>\n",
       "      <td>0.81</td>\n",
       "      <td>1600</td>\n",
       "      <td>2.75</td>\n",
       "      <td>4400</td>\n",
       "      <td>31.5</td>\n",
       "    </tr>\n",
       "  </tbody>\n",
       "</table>\n",
       "</div>"
      ],
      "text/plain": [
       "   Player     Role   Hero               MouseModel  MouseWeight  \\\n",
       "75  Jecse  Support  Lucio  Finalmouse Ultralight 2           50   \n",
       "\n",
       "    MouseWeightToSizeRatio   DPI  Sensitivity  eDPI  cmPer360  \n",
       "75                    0.81  1600         2.75  4400      31.5  "
      ]
     },
     "execution_count": 8,
     "metadata": {},
     "output_type": "execute_result"
    }
   ],
   "source": [
    "df.loc[df['MouseModel'] == \"Finalmouse Ultralight 2\"]"
   ]
  },
  {
   "cell_type": "code",
   "execution_count": 9,
   "metadata": {},
   "outputs": [],
   "source": [
    "# Use .replace to completely replace the names of all FinalMouse products \n",
    "# as Finalmouse products\n",
    "df['MouseModel'] = df['MouseModel'].replace([\"FinalMouse Ultralight 2\"], \"Finalmouse Ultralight 2\")\n",
    "df['MouseModel'] = df['MouseModel'].replace([\"FinalMouse Ultralight Pro\"], \"Finalmouse Ultralight Pro\")"
   ]
  },
  {
   "cell_type": "code",
   "execution_count": 10,
   "metadata": {},
   "outputs": [
    {
     "data": {
      "text/html": [
       "<div>\n",
       "<style scoped>\n",
       "    .dataframe tbody tr th:only-of-type {\n",
       "        vertical-align: middle;\n",
       "    }\n",
       "\n",
       "    .dataframe tbody tr th {\n",
       "        vertical-align: top;\n",
       "    }\n",
       "\n",
       "    .dataframe thead th {\n",
       "        text-align: right;\n",
       "    }\n",
       "</style>\n",
       "<table border=\"1\" class=\"dataframe\">\n",
       "  <thead>\n",
       "    <tr style=\"text-align: right;\">\n",
       "      <th></th>\n",
       "      <th>Player</th>\n",
       "      <th>Role</th>\n",
       "      <th>Hero</th>\n",
       "      <th>MouseModel</th>\n",
       "      <th>MouseWeight</th>\n",
       "      <th>MouseWeightToSizeRatio</th>\n",
       "      <th>DPI</th>\n",
       "      <th>Sensitivity</th>\n",
       "      <th>eDPI</th>\n",
       "      <th>cmPer360</th>\n",
       "    </tr>\n",
       "  </thead>\n",
       "  <tbody>\n",
       "    <tr>\n",
       "      <th>44</th>\n",
       "      <td>birdring</td>\n",
       "      <td>Damage</td>\n",
       "      <td>Widowmaker</td>\n",
       "      <td>Finalmouse Ultralight 2</td>\n",
       "      <td>50</td>\n",
       "      <td>0.81</td>\n",
       "      <td>1600</td>\n",
       "      <td>2.35</td>\n",
       "      <td>3760</td>\n",
       "      <td>36.86</td>\n",
       "    </tr>\n",
       "    <tr>\n",
       "      <th>59</th>\n",
       "      <td>Moth</td>\n",
       "      <td>Support</td>\n",
       "      <td>Lucio</td>\n",
       "      <td>Finalmouse Ultralight 2</td>\n",
       "      <td>50</td>\n",
       "      <td>0.81</td>\n",
       "      <td>1600</td>\n",
       "      <td>1.87</td>\n",
       "      <td>2992</td>\n",
       "      <td>46.32</td>\n",
       "    </tr>\n",
       "    <tr>\n",
       "      <th>75</th>\n",
       "      <td>Jecse</td>\n",
       "      <td>Support</td>\n",
       "      <td>Lucio</td>\n",
       "      <td>Finalmouse Ultralight 2</td>\n",
       "      <td>50</td>\n",
       "      <td>0.81</td>\n",
       "      <td>1600</td>\n",
       "      <td>2.75</td>\n",
       "      <td>4400</td>\n",
       "      <td>31.50</td>\n",
       "    </tr>\n",
       "  </tbody>\n",
       "</table>\n",
       "</div>"
      ],
      "text/plain": [
       "      Player     Role        Hero               MouseModel  MouseWeight  \\\n",
       "44  birdring   Damage  Widowmaker  Finalmouse Ultralight 2           50   \n",
       "59      Moth  Support       Lucio  Finalmouse Ultralight 2           50   \n",
       "75     Jecse  Support       Lucio  Finalmouse Ultralight 2           50   \n",
       "\n",
       "    MouseWeightToSizeRatio   DPI  Sensitivity  eDPI  cmPer360  \n",
       "44                    0.81  1600         2.35  3760     36.86  \n",
       "59                    0.81  1600         1.87  2992     46.32  \n",
       "75                    0.81  1600         2.75  4400     31.50  "
      ]
     },
     "execution_count": 10,
     "metadata": {},
     "output_type": "execute_result"
    }
   ],
   "source": [
    "# Check again using .loc and .value_counts() to ensure change went through\n",
    "df.loc[df['MouseModel'] == \"Finalmouse Ultralight 2\"]"
   ]
  },
  {
   "cell_type": "code",
   "execution_count": 11,
   "metadata": {},
   "outputs": [
    {
     "data": {
      "text/plain": [
       "Logitech G Pro Wireless          45\n",
       "Logitech G Pro X Superlight      17\n",
       "Logitech G Pro                   17\n",
       "Logitech G903                    15\n",
       "Logitech G403                     7\n",
       "Logitech G703                     6\n",
       "Zowie EC2-B                       5\n",
       "Razer Viper Ultimate              3\n",
       "Logitech G305                     3\n",
       "Logitech G304                     3\n",
       "Finalmouse Ultralight 2           3\n",
       "Logitech G900                     2\n",
       "Glorious Model O                  2\n",
       "Logitech G502                     2\n",
       "Zowie EC1-B                       2\n",
       "Glorious Model D                  1\n",
       "Finalmouse Ultralight Phantom     1\n",
       "Finalmouse Scream One             1\n",
       "Logitech G102                     1\n",
       "Zowie EC2-A                       1\n",
       "Roccat Kone Pure                  1\n",
       "Logitech G303                     1\n",
       "SteelSeries Rival 100             1\n",
       "SteelSeries Kinzu V3              1\n",
       "VAXEE OUTSET AX                   1\n",
       "Logitech G403 Wireless            1\n",
       "Razer Deathadder Elite            1\n",
       "Finalmouse Ultralight Pro         1\n",
       "Razer Orochi V2                   1\n",
       "SteelSeries Sensei Ten            1\n",
       "Logitech G203                     1\n",
       "Name: MouseModel, dtype: int64"
      ]
     },
     "execution_count": 11,
     "metadata": {},
     "output_type": "execute_result"
    }
   ],
   "source": [
    "df['MouseModel'].value_counts()"
   ]
  },
  {
   "cell_type": "code",
   "execution_count": 12,
   "metadata": {},
   "outputs": [
    {
     "data": {
      "text/plain": [
       "Player                    0\n",
       "Role                      0\n",
       "Hero                      0\n",
       "MouseModel                0\n",
       "MouseWeight               0\n",
       "MouseWeightToSizeRatio    0\n",
       "DPI                       0\n",
       "Sensitivity               0\n",
       "eDPI                      0\n",
       "cmPer360                  0\n",
       "dtype: int64"
      ]
     },
     "execution_count": 12,
     "metadata": {},
     "output_type": "execute_result"
    }
   ],
   "source": [
    "#2c. Check data: ensure no missing/incomplete data using .isnull\n",
    "df.isnull().sum()"
   ]
  },
  {
   "cell_type": "code",
   "execution_count": 13,
   "metadata": {},
   "outputs": [
    {
     "data": {
      "text/plain": [
       "MouseWeight               0.168460\n",
       "MouseWeightToSizeRatio   -0.366062\n",
       "DPI                       1.378525\n",
       "Sensitivity               1.127626\n",
       "eDPI                      2.024137\n",
       "cmPer360                  1.019228\n",
       "dtype: float64"
      ]
     },
     "execution_count": 13,
     "metadata": {},
     "output_type": "execute_result"
    }
   ],
   "source": [
    "#2d. Check data: check for data skewness and begin visualizing data\n",
    "# for each numerical variable\n",
    "df.skew(axis=0, skipna=True)"
   ]
  },
  {
   "cell_type": "code",
   "execution_count": 14,
   "metadata": {},
   "outputs": [
    {
     "data": {
      "text/plain": [
       "(array([ 3., 17.,  4.,  7., 45., 42., 10.,  0., 19.,  1.]),\n",
       " array([ 50.,  57.,  64.,  71.,  78.,  85.,  92.,  99., 106., 113., 120.]),\n",
       " <BarContainer object of 10 artists>)"
      ]
     },
     "execution_count": 14,
     "metadata": {},
     "output_type": "execute_result"
    },
    {
     "data": {
      "image/png": "[encoded data removed]",
      "text/plain": [
       "<Figure size 1440x720 with 1 Axes>"
      ]
     },
     "metadata": {},
     "output_type": "display_data"
    }
   ],
   "source": [
    "# Set the figure size then plot a histogram for the variables\n",
    "sns.set(rc={\"figure.figsize\":(20,10)})\n",
    "plt.hist(df[\"MouseWeight\"], bins=10)"
   ]
  },
  {
   "cell_type": "code",
   "execution_count": 15,
   "metadata": {},
   "outputs": [
    {
     "data": {
      "text/plain": [
       "(array([ 4.,  0.,  0., 97., 20.,  1.,  1.,  2.,  1., 22.]),\n",
       " array([ 400.,  525.,  650.,  775.,  900., 1025., 1150., 1275., 1400.,\n",
       "        1525., 1650.]),\n",
       " <BarContainer object of 10 artists>)"
      ]
     },
     "execution_count": 15,
     "metadata": {},
     "output_type": "execute_result"
    },
    {
     "data": {
      "image/png": "[encoded data removed]",
      "text/plain": [
       "<Figure size 1440x720 with 1 Axes>"
      ]
     },
     "metadata": {},
     "output_type": "display_data"
    }
   ],
   "source": [
    "plt.hist(df[\"DPI\"])"
   ]
  },
  {
   "cell_type": "code",
   "execution_count": 16,
   "metadata": {},
   "outputs": [
    {
     "data": {
      "text/plain": [
       "(array([19., 31., 38., 26., 15., 10.,  2.,  4.,  2.,  1.]),\n",
       " array([ 1.5 ,  2.85,  4.2 ,  5.55,  6.9 ,  8.25,  9.6 , 10.95, 12.3 ,\n",
       "        13.65, 15.  ]),\n",
       " <BarContainer object of 10 artists>)"
      ]
     },
     "execution_count": 16,
     "metadata": {},
     "output_type": "execute_result"
    },
    {
     "data": {
      "image/png": "[encoded data removed]",
      "text/plain": [
       "<Figure size 1440x720 with 1 Axes>"
      ]
     },
     "metadata": {},
     "output_type": "display_data"
    }
   ],
   "source": [
    "plt.hist(df[\"Sensitivity\"])"
   ]
  },
  {
   "cell_type": "code",
   "execution_count": 17,
   "metadata": {},
   "outputs": [
    {
     "data": {
      "text/plain": [
       "(array([18., 57., 45., 15.,  5.,  5.,  1.,  1.,  0.,  1.]),\n",
       " array([ 1776. ,  3196.8,  4617.6,  6038.4,  7459.2,  8880. , 10300.8,\n",
       "        11721.6, 13142.4, 14563.2, 15984. ]),\n",
       " <BarContainer object of 10 artists>)"
      ]
     },
     "execution_count": 17,
     "metadata": {},
     "output_type": "execute_result"
    },
    {
     "data": {
      "image/png": "[encoded data removed]",
      "text/plain": [
       "<Figure size 1440x720 with 1 Axes>"
      ]
     },
     "metadata": {},
     "output_type": "display_data"
    }
   ],
   "source": [
    "plt.hist(df[\"eDPI\"])"
   ]
  },
  {
   "cell_type": "code",
   "execution_count": 18,
   "metadata": {},
   "outputs": [
    {
     "data": {
      "image/png": "[encoded data removed]",
      "text/plain": [
       "<Figure size 1440x720 with 1 Axes>"
      ]
     },
     "metadata": {},
     "output_type": "display_data"
    }
   ],
   "source": [
    "# Plot this car chart slightly differently since it is a categorical variable\n",
    "# Plot the top 5 most popular mouse models is descending order\n",
    "plt.bar(df[\"MouseModel\"][:5],df[\"MouseModel\"].value_counts()[:5])\n",
    "plt.show()"
   ]
  },
  {
   "cell_type": "code",
   "execution_count": 19,
   "metadata": {},
   "outputs": [
    {
     "data": {
      "text/plain": [
       "<AxesSubplot:xlabel='Role', ylabel='eDPI'>"
      ]
     },
     "execution_count": 19,
     "metadata": {},
     "output_type": "execute_result"
    },
    {
     "data": {
      "image/png": "[encoded data removed]",
      "text/plain": [
       "<Figure size 1440x720 with 1 Axes>"
      ]
     },
     "metadata": {},
     "output_type": "display_data"
    }
   ],
   "source": [
    "# Use stripplot to visually see if there is any relationship between Role and eDPI\n",
    "# Most points maintain closeness with a few extreme outliers \n",
    "sns.stripplot(x=\"Role\", y=\"eDPI\", data=df)"
   ]
  },
  {
   "cell_type": "code",
   "execution_count": 20,
   "metadata": {},
   "outputs": [
    {
     "data": {
      "text/plain": [
       "<AxesSubplot:xlabel='Role', ylabel='eDPI'>"
      ]
     },
     "execution_count": 20,
     "metadata": {},
     "output_type": "execute_result"
    },
    {
     "data": {
      "image/png": "[encoded data removed]",
      "text/plain": [
       "<Figure size 1440x720 with 1 Axes>"
      ]
     },
     "metadata": {},
     "output_type": "display_data"
    }
   ],
   "source": [
    "# Create plot to show calculated average eDPIs based on roles\n",
    "role_avg = df.groupby(\"Role\").mean()\n",
    "edpi_tank = str(round(role_avg[\"eDPI\"][\"Tank\"], 2))\n",
    "edpi_support = str(round(role_avg[\"eDPI\"][\"Support\"], 2))\n",
    "edpi_damage = str(round(role_avg[\"eDPI\"][\"Damage\"], 2))\n",
    "\n",
    "sns.barplot(x=\"Role\", y=\"eDPI\", data=df)"
   ]
  },
  {
   "cell_type": "code",
   "execution_count": 21,
   "metadata": {},
   "outputs": [
    {
     "data": {
      "image/png": "[encoded data removed]",
      "text/plain": [
       "<Figure size 1440x720 with 1 Axes>"
      ]
     },
     "metadata": {},
     "output_type": "display_data"
    }
   ],
   "source": [
    "# Same as above, but now show calculated average eDPIs based on heroes\n",
    "hero_avg = df.groupby(\"Hero\").mean()\n",
    "sns.barplot(x=\"Hero\", y=\"eDPI\", data=df.sort_values(\"cmPer360\"))\n",
    "plt.xticks(rotation=\"vertical\")\n",
    "plt.show()"
   ]
  },
  {
   "cell_type": "code",
   "execution_count": 22,
   "metadata": {},
   "outputs": [
    {
     "data": {
      "text/plain": [
       "MouseWeight               0.168460\n",
       "MouseWeightToSizeRatio   -0.366062\n",
       "DPI                       0.644238\n",
       "Sensitivity              -0.191981\n",
       "eDPI                      0.373934\n",
       "cmPer360                 -0.374120\n",
       "dtype: float64"
      ]
     },
     "execution_count": 22,
     "metadata": {},
     "output_type": "execute_result"
    }
   ],
   "source": [
    "# Copy dataframe as df2 to show how skewness changes, especially when plotted\n",
    "df2=df.copy()\n",
    "df2['DPI'] = np.log(df2['DPI'])\n",
    "df2['Sensitivity'] = np.log(df2['Sensitivity'])\n",
    "df2['eDPI'] = np.log(df2['eDPI'])\n",
    "df2['cmPer360'] = np.log(df2['cmPer360'])\n",
    "df2.skew()"
   ]
  },
  {
   "cell_type": "code",
   "execution_count": 23,
   "metadata": {},
   "outputs": [
    {
     "data": {
      "text/plain": [
       "(array([ 2., 11.,  6., 16., 25., 31., 32., 16.,  3.,  6.]),\n",
       " array([0.40546511, 0.63572362, 0.86598213, 1.09624064, 1.32649915,\n",
       "        1.55675765, 1.78701616, 2.01727467, 2.24753318, 2.47779169,\n",
       "        2.7080502 ]),\n",
       " <BarContainer object of 10 artists>)"
      ]
     },
     "execution_count": 23,
     "metadata": {},
     "output_type": "execute_result"
    },
    {
     "data": {
      "image/png": "[encoded data removed]",
      "text/plain": [
       "<Figure size 1440x720 with 1 Axes>"
      ]
     },
     "metadata": {},
     "output_type": "display_data"
    }
   ],
   "source": [
    "plt.hist(df2['Sensitivity'])"
   ]
  },
  {
   "cell_type": "code",
   "execution_count": 24,
   "metadata": {},
   "outputs": [
    {
     "data": {
      "text/plain": [
       "(array([ 5.,  1., 26., 37., 35., 23., 12.,  6.,  2.,  1.]),\n",
       " array([7.48211892, 7.70184138, 7.92156384, 8.1412863 , 8.36100875,\n",
       "        8.58073121, 8.80045367, 9.02017613, 9.23989859, 9.45962104,\n",
       "        9.6793435 ]),\n",
       " <BarContainer object of 10 artists>)"
      ]
     },
     "execution_count": 24,
     "metadata": {},
     "output_type": "execute_result"
    },
    {
     "data": {
      "image/png": "[encoded data removed]",
      "text/plain": [
       "<Figure size 1440x720 with 1 Axes>"
      ]
     },
     "metadata": {},
     "output_type": "display_data"
    }
   ],
   "source": [
    "plt.hist(df2['eDPI'])"
   ]
  },
  {
   "cell_type": "code",
   "execution_count": 25,
   "metadata": {},
   "outputs": [
    {
     "data": {
      "text/plain": [
       "cmPer360                  1.000000\n",
       "DPI                      -0.036193\n",
       "MouseWeight              -0.062774\n",
       "MouseWeightToSizeRatio   -0.072503\n",
       "Sensitivity              -0.721958\n",
       "eDPI                     -0.840873\n",
       "Name: cmPer360, dtype: float64"
      ]
     },
     "execution_count": 25,
     "metadata": {},
     "output_type": "execute_result"
    }
   ],
   "source": [
    "#3. look for correlations to Role and cmPer360 for all variables\n",
    "corr_matrix = df.corr()\n",
    "corr_matrix\n",
    "corr_matrix['cmPer360'].sort_values(ascending=False)"
   ]
  },
  {
   "cell_type": "code",
   "execution_count": 26,
   "metadata": {},
   "outputs": [
    {
     "data": {
      "text/html": [
       "<div>\n",
       "<style scoped>\n",
       "    .dataframe tbody tr th:only-of-type {\n",
       "        vertical-align: middle;\n",
       "    }\n",
       "\n",
       "    .dataframe tbody tr th {\n",
       "        vertical-align: top;\n",
       "    }\n",
       "\n",
       "    .dataframe thead th {\n",
       "        text-align: right;\n",
       "    }\n",
       "</style>\n",
       "<table border=\"1\" class=\"dataframe\">\n",
       "  <thead>\n",
       "    <tr style=\"text-align: right;\">\n",
       "      <th></th>\n",
       "      <th>MouseWeight</th>\n",
       "      <th>MouseWeightToSizeRatio</th>\n",
       "      <th>DPI</th>\n",
       "      <th>Sensitivity</th>\n",
       "      <th>eDPI</th>\n",
       "      <th>cmPer360</th>\n",
       "    </tr>\n",
       "    <tr>\n",
       "      <th>Role</th>\n",
       "      <th></th>\n",
       "      <th></th>\n",
       "      <th></th>\n",
       "      <th></th>\n",
       "      <th></th>\n",
       "      <th></th>\n",
       "    </tr>\n",
       "  </thead>\n",
       "  <tbody>\n",
       "    <tr>\n",
       "      <th>Damage</th>\n",
       "      <td>82.515625</td>\n",
       "      <td>1.124531</td>\n",
       "      <td>999.218750</td>\n",
       "      <td>5.003906</td>\n",
       "      <td>4473.250000</td>\n",
       "      <td>32.999063</td>\n",
       "    </tr>\n",
       "    <tr>\n",
       "      <th>Support</th>\n",
       "      <td>85.000000</td>\n",
       "      <td>1.149524</td>\n",
       "      <td>929.761905</td>\n",
       "      <td>5.077619</td>\n",
       "      <td>4488.571429</td>\n",
       "      <td>37.446190</td>\n",
       "    </tr>\n",
       "    <tr>\n",
       "      <th>Tank</th>\n",
       "      <td>84.047619</td>\n",
       "      <td>1.141667</td>\n",
       "      <td>896.428571</td>\n",
       "      <td>6.589286</td>\n",
       "      <td>5807.785714</td>\n",
       "      <td>27.661667</td>\n",
       "    </tr>\n",
       "  </tbody>\n",
       "</table>\n",
       "</div>"
      ],
      "text/plain": [
       "         MouseWeight  MouseWeightToSizeRatio         DPI  Sensitivity  \\\n",
       "Role                                                                    \n",
       "Damage     82.515625                1.124531  999.218750     5.003906   \n",
       "Support    85.000000                1.149524  929.761905     5.077619   \n",
       "Tank       84.047619                1.141667  896.428571     6.589286   \n",
       "\n",
       "                eDPI   cmPer360  \n",
       "Role                             \n",
       "Damage   4473.250000  32.999063  \n",
       "Support  4488.571429  37.446190  \n",
       "Tank     5807.785714  27.661667  "
      ]
     },
     "execution_count": 26,
     "metadata": {},
     "output_type": "execute_result"
    }
   ],
   "source": [
    "df.groupby('Role').mean()"
   ]
  },
  {
   "cell_type": "code",
   "execution_count": 27,
   "metadata": {},
   "outputs": [
    {
     "data": {
      "text/html": [
       "<div>\n",
       "<style scoped>\n",
       "    .dataframe tbody tr th:only-of-type {\n",
       "        vertical-align: middle;\n",
       "    }\n",
       "\n",
       "    .dataframe tbody tr th {\n",
       "        vertical-align: top;\n",
       "    }\n",
       "\n",
       "    .dataframe thead th {\n",
       "        text-align: right;\n",
       "    }\n",
       "</style>\n",
       "<table border=\"1\" class=\"dataframe\">\n",
       "  <thead>\n",
       "    <tr style=\"text-align: right;\">\n",
       "      <th></th>\n",
       "      <th>MouseWeight</th>\n",
       "      <th>MouseWeightToSizeRatio</th>\n",
       "      <th>DPI</th>\n",
       "      <th>Sensitivity</th>\n",
       "      <th>eDPI</th>\n",
       "      <th>cmPer360</th>\n",
       "    </tr>\n",
       "  </thead>\n",
       "  <tbody>\n",
       "    <tr>\n",
       "      <th>0</th>\n",
       "      <td>80</td>\n",
       "      <td>1.08</td>\n",
       "      <td>800</td>\n",
       "      <td>6.00</td>\n",
       "      <td>4800</td>\n",
       "      <td>28.88</td>\n",
       "    </tr>\n",
       "    <tr>\n",
       "      <th>1</th>\n",
       "      <td>111</td>\n",
       "      <td>1.26</td>\n",
       "      <td>1600</td>\n",
       "      <td>9.99</td>\n",
       "      <td>15984</td>\n",
       "      <td>8.67</td>\n",
       "    </tr>\n",
       "    <tr>\n",
       "      <th>2</th>\n",
       "      <td>95</td>\n",
       "      <td>1.28</td>\n",
       "      <td>800</td>\n",
       "      <td>12.50</td>\n",
       "      <td>10000</td>\n",
       "      <td>13.86</td>\n",
       "    </tr>\n",
       "    <tr>\n",
       "      <th>3</th>\n",
       "      <td>107</td>\n",
       "      <td>1.50</td>\n",
       "      <td>800</td>\n",
       "      <td>12.01</td>\n",
       "      <td>9608</td>\n",
       "      <td>14.43</td>\n",
       "    </tr>\n",
       "    <tr>\n",
       "      <th>4</th>\n",
       "      <td>60</td>\n",
       "      <td>0.81</td>\n",
       "      <td>800</td>\n",
       "      <td>6.00</td>\n",
       "      <td>4800</td>\n",
       "      <td>28.88</td>\n",
       "    </tr>\n",
       "  </tbody>\n",
       "</table>\n",
       "</div>"
      ],
      "text/plain": [
       "   MouseWeight  MouseWeightToSizeRatio   DPI  Sensitivity   eDPI  cmPer360\n",
       "0           80                    1.08   800         6.00   4800     28.88\n",
       "1          111                    1.26  1600         9.99  15984      8.67\n",
       "2           95                    1.28   800        12.50  10000     13.86\n",
       "3          107                    1.50   800        12.01   9608     14.43\n",
       "4           60                    0.81   800         6.00   4800     28.88"
      ]
     },
     "execution_count": 27,
     "metadata": {},
     "output_type": "execute_result"
    }
   ],
   "source": [
    "#4.  Start building a logistic regression model\n",
    "#4a. first convert non numerical data into numbers using map function\n",
    "yn_map = {'Support': 2, 'Damage': 1, 'Tank': 0}\n",
    "df['Role'] = df['Role'].map(yn_map)\n",
    "newdf = df[['MouseWeight','MouseWeightToSizeRatio','DPI','Sensitivity','eDPI','cmPer360']]\n",
    "newdf.head()"
   ]
  },
  {
   "cell_type": "code",
   "execution_count": 28,
   "metadata": {},
   "outputs": [
    {
     "name": "stdout",
     "output_type": "stream",
     "text": [
      "(118, 6) (118,)\n"
     ]
    }
   ],
   "source": [
    "#4b. now split dataset 80/20 ratio for training and test set\n",
    "from sklearn.model_selection import train_test_split\n",
    "\n",
    "x = newdf\n",
    "y = df.Role\n",
    "x_train, x_test, y_train, y_test = train_test_split(x,y,test_size=0.2, random_state=42)\n",
    "print(x_train.shape,y_train.shape)"
   ]
  },
  {
   "cell_type": "code",
   "execution_count": 29,
   "metadata": {},
   "outputs": [
    {
     "name": "stderr",
     "output_type": "stream",
     "text": [
      "C:\\Users\\VTX_3\\anaconda3\\lib\\site-packages\\sklearn\\linear_model\\_logistic.py:763: ConvergenceWarning: lbfgs failed to converge (status=1):\n",
      "STOP: TOTAL NO. of ITERATIONS REACHED LIMIT.\n",
      "\n",
      "Increase the number of iterations (max_iter) or scale the data as shown in:\n",
      "    https://scikit-learn.org/stable/modules/preprocessing.html\n",
      "Please also refer to the documentation for alternative solver options:\n",
      "    https://scikit-learn.org/stable/modules/linear_model.html#logistic-regression\n",
      "  n_iter_i = _check_optimize_result(\n"
     ]
    },
    {
     "data": {
      "text/plain": [
       "array([0, 1, 1, 1, 1, 0, 2, 1, 2, 0, 1, 0, 1, 2, 2, 1, 0, 2, 1, 1, 1, 1,\n",
       "       1, 1, 1, 1, 1, 0, 1, 0], dtype=int64)"
      ]
     },
     "execution_count": 29,
     "metadata": {},
     "output_type": "execute_result"
    }
   ],
   "source": [
    "#train the model using the training data set and then predict an outcome \n",
    "from sklearn.linear_model import LogisticRegression\n",
    "lr = LogisticRegression()\n",
    "lr.fit(x_train, y_train)\n",
    "lr.predict(x_test)"
   ]
  },
  {
   "cell_type": "code",
   "execution_count": 30,
   "metadata": {},
   "outputs": [
    {
     "name": "stdout",
     "output_type": "stream",
     "text": [
      "The intercept b0 =  [-0.00013144  0.00041136 -0.00027991]\n",
      "The coefficient b1 =  [[-6.64855450e-04 -5.55510170e-07 -1.08481003e-03 -3.24315595e-03\n",
      "   2.38082369e-04 -8.90547845e-03]\n",
      " [ 7.27628178e-03 -9.40064146e-05  1.25577388e-03  6.40254957e-03\n",
      "  -2.16846520e-04 -1.36987775e-02]\n",
      " [-6.61142634e-03  9.45619248e-05 -1.70963844e-04 -3.15939362e-03\n",
      "  -2.12358488e-05  2.26042560e-02]]\n"
     ]
    }
   ],
   "source": [
    "print(\"The intercept b0 = \", lr.intercept_)\n",
    "print(\"The coefficient b1 = \", lr.coef_)"
   ]
  },
  {
   "cell_type": "code",
   "execution_count": 31,
   "metadata": {},
   "outputs": [
    {
     "data": {
      "text/plain": [
       "0.43333333333333335"
      ]
     },
     "execution_count": 31,
     "metadata": {},
     "output_type": "execute_result"
    }
   ],
   "source": [
    "#5)  Evaluate the model using multiple metrics\n",
    "#5a) the accuracy of the model is about 52% \n",
    "lr.score(x_test, y_test)"
   ]
  },
  {
   "cell_type": "code",
   "execution_count": 32,
   "metadata": {},
   "outputs": [
    {
     "data": {
      "text/plain": [
       "array([[2, 5, 1],\n",
       "       [3, 8, 1],\n",
       "       [2, 5, 3]], dtype=int64)"
      ]
     },
     "execution_count": 32,
     "metadata": {},
     "output_type": "execute_result"
    }
   ],
   "source": [
    "#5b) create a confusion matrix to better understand the accuracy score metric\n",
    "from sklearn.metrics import classification_report, confusion_matrix\n",
    "conf_m = confusion_matrix(y_test, lr.predict(x_test))\n",
    "conf_m"
   ]
  },
  {
   "cell_type": "code",
   "execution_count": 33,
   "metadata": {},
   "outputs": [
    {
     "name": "stdout",
     "output_type": "stream",
     "text": [
      "report:\n",
      "              precision    recall  f1-score   support\n",
      "\n",
      "           0       0.29      0.25      0.27         8\n",
      "           1       0.44      0.67      0.53        12\n",
      "           2       0.60      0.30      0.40        10\n",
      "\n",
      "    accuracy                           0.43        30\n",
      "   macro avg       0.44      0.41      0.40        30\n",
      "weighted avg       0.45      0.43      0.42        30\n",
      "\n"
     ]
    }
   ],
   "source": [
    "#5c) Evaluate 2 more metrics of precision/recall using classification report\n",
    "report = classification_report(y_test, lr.predict(x_test))\n",
    "print('report:', report, sep='\\n')"
   ]
  },
  {
   "cell_type": "code",
   "execution_count": 34,
   "metadata": {},
   "outputs": [
    {
     "data": {
      "text/html": [
       "<table class=\"simpletable\">\n",
       "<tr>\n",
       "          <td>Model:</td>                 <td>OLS</td>       <td>Adj. R-squared (uncentered):</td>   <td>0.661</td> \n",
       "</tr>\n",
       "<tr>\n",
       "    <td>Dependent Variable:</td>         <td>Role</td>                   <td>AIC:</td>             <td>332.4517</td>\n",
       "</tr>\n",
       "<tr>\n",
       "           <td>Date:</td>          <td>2022-12-07 02:57</td>             <td>BIC:</td>             <td>350.4349</td>\n",
       "</tr>\n",
       "<tr>\n",
       "     <td>No. Observations:</td>           <td>148</td>              <td>Log-Likelihood:</td>        <td>-160.23</td>\n",
       "</tr>\n",
       "<tr>\n",
       "         <td>Df Model:</td>                <td>6</td>                <td>F-statistic:</td>           <td>49.03</td> \n",
       "</tr>\n",
       "<tr>\n",
       "       <td>Df Residuals:</td>             <td>142</td>            <td>Prob (F-statistic):</td>     <td>3.03e-32</td>\n",
       "</tr>\n",
       "<tr>\n",
       "  <td>R-squared (uncentered):</td>       <td>0.674</td>                 <td>Scale:</td>             <td>0.53191</td>\n",
       "</tr>\n",
       "</table>\n",
       "<table class=\"simpletable\">\n",
       "<tr>\n",
       "             <td></td>             <th>Coef.</th>  <th>Std.Err.</th>    <th>t</th>     <th>P>|t|</th> <th>[0.025</th>  <th>0.975]</th>\n",
       "</tr>\n",
       "<tr>\n",
       "  <th>MouseWeight</th>            <td>0.0014</td>   <td>0.0073</td>  <td>0.1977</td>  <td>0.8435</td> <td>-0.0130</td> <td>0.0159</td>\n",
       "</tr>\n",
       "<tr>\n",
       "  <th>MouseWeightToSizeRatio</th> <td>0.0172</td>   <td>0.5789</td>  <td>0.0298</td>  <td>0.9763</td> <td>-1.1271</td> <td>1.1616</td>\n",
       "</tr>\n",
       "<tr>\n",
       "  <th>DPI</th>                    <td>0.0002</td>   <td>0.0003</td>  <td>0.5899</td>  <td>0.5562</td> <td>-0.0004</td> <td>0.0008</td>\n",
       "</tr>\n",
       "<tr>\n",
       "  <th>Sensitivity</th>            <td>0.0144</td>   <td>0.0584</td>  <td>0.2466</td>  <td>0.8056</td> <td>-0.1011</td> <td>0.1299</td>\n",
       "</tr>\n",
       "<tr>\n",
       "  <th>eDPI</th>                   <td>-0.0000</td>  <td>0.0001</td>  <td>-0.1231</td> <td>0.9022</td> <td>-0.0002</td> <td>0.0002</td>\n",
       "</tr>\n",
       "<tr>\n",
       "  <th>cmPer360</th>               <td>0.0202</td>   <td>0.0066</td>  <td>3.0672</td>  <td>0.0026</td> <td>0.0072</td>  <td>0.0332</td>\n",
       "</tr>\n",
       "</table>\n",
       "<table class=\"simpletable\">\n",
       "<tr>\n",
       "     <td>Omnibus:</td>    <td>17.059</td>  <td>Durbin-Watson:</td>   <td>1.922</td>\n",
       "</tr>\n",
       "<tr>\n",
       "  <td>Prob(Omnibus):</td>  <td>0.000</td> <td>Jarque-Bera (JB):</td> <td>5.671</td>\n",
       "</tr>\n",
       "<tr>\n",
       "       <td>Skew:</td>      <td>0.129</td>     <td>Prob(JB):</td>     <td>0.059</td>\n",
       "</tr>\n",
       "<tr>\n",
       "     <td>Kurtosis:</td>    <td>2.076</td>  <td>Condition No.:</td>   <td>51590</td>\n",
       "</tr>\n",
       "</table>"
      ],
      "text/plain": [
       "<class 'statsmodels.iolib.summary2.Summary'>\n",
       "\"\"\"\n",
       "                       Results: Ordinary least squares\n",
       "==============================================================================\n",
       "Model:                  OLS              Adj. R-squared (uncentered): 0.661   \n",
       "Dependent Variable:     Role             AIC:                         332.4517\n",
       "Date:                   2022-12-07 02:57 BIC:                         350.4349\n",
       "No. Observations:       148              Log-Likelihood:              -160.23 \n",
       "Df Model:               6                F-statistic:                 49.03   \n",
       "Df Residuals:           142              Prob (F-statistic):          3.03e-32\n",
       "R-squared (uncentered): 0.674            Scale:                       0.53191 \n",
       "-------------------------------------------------------------------------------\n",
       "                             Coef.   Std.Err.     t     P>|t|    [0.025  0.975]\n",
       "-------------------------------------------------------------------------------\n",
       "MouseWeight                  0.0014    0.0073   0.1977  0.8435  -0.0130  0.0159\n",
       "MouseWeightToSizeRatio       0.0172    0.5789   0.0298  0.9763  -1.1271  1.1616\n",
       "DPI                          0.0002    0.0003   0.5899  0.5562  -0.0004  0.0008\n",
       "Sensitivity                  0.0144    0.0584   0.2466  0.8056  -0.1011  0.1299\n",
       "eDPI                        -0.0000    0.0001  -0.1231  0.9022  -0.0002  0.0002\n",
       "cmPer360                     0.0202    0.0066   3.0672  0.0026   0.0072  0.0332\n",
       "------------------------------------------------------------------------------\n",
       "Omnibus:                  17.059            Durbin-Watson:               1.922\n",
       "Prob(Omnibus):            0.000             Jarque-Bera (JB):            5.671\n",
       "Skew:                     0.129             Prob(JB):                    0.059\n",
       "Kurtosis:                 2.076             Condition No.:               51590\n",
       "==============================================================================\n",
       "* The condition number is large (5e+04). This might indicate\n",
       "strong multicollinearity or other numerical problems.\n",
       "\"\"\""
      ]
     },
     "execution_count": 34,
     "metadata": {},
     "output_type": "execute_result"
    }
   ],
   "source": [
    "#5d) get pseudo r squared using statsmodel summary\n",
    "import statsmodels.api as sm\n",
    "model = sm.OLS(y,x)\n",
    "fitted_model = model.fit()\n",
    "fitted_model.summary2()"
   ]
  },
  {
   "cell_type": "code",
   "execution_count": 35,
   "metadata": {},
   "outputs": [
    {
     "name": "stderr",
     "output_type": "stream",
     "text": [
      "C:\\Users\\VTX_3\\anaconda3\\lib\\site-packages\\statsmodels\\genmod\\families\\links.py:188: RuntimeWarning: overflow encountered in exp\n",
      "  t = np.exp(-z)\n"
     ]
    },
    {
     "data": {
      "text/plain": [
       "<AxesSubplot:xlabel='cmPer360', ylabel='Role'>"
      ]
     },
     "execution_count": 35,
     "metadata": {},
     "output_type": "execute_result"
    },
    {
     "data": {
      "image/png": "[encoded data removed]",
      "text/plain": [
       "<Figure size 1440x720 with 1 Axes>"
      ]
     },
     "metadata": {},
     "output_type": "display_data"
    }
   ],
   "source": [
    "# final visualization of logistic regression prediction\n",
    "sns.regplot(x=df.cmPer360, y=y, data=df, logistic=True, ci=None,\n",
    "            scatter_kws={'color': 'black'}, line_kws={'color': 'red'})"
   ]
  }
 ],
 "metadata": {
  "kernelspec": {
   "display_name": "Python 3",
   "language": "python",
   "name": "python3"
  },
  "language_info": {
   "codemirror_mode": {
    "name": "ipython",
    "version": 3
   },
   "file_extension": ".py",
   "mimetype": "text/x-python",
   "name": "python",
   "nbconvert_exporter": "python",
   "pygments_lexer": "ipython3",
   "version": "3.8.8"
  }
 },
 "nbformat": 4,
 "nbformat_minor": 2
}
